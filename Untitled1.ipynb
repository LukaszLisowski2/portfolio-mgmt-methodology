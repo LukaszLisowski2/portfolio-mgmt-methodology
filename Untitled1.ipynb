{
 "cells": [
  {
   "cell_type": "code",
   "execution_count": 9,
   "id": "6b58cc9c-f33c-4f16-9f45-50fb70274c3b",
   "metadata": {},
   "outputs": [],
   "source": [
    "# Import packages\n",
    "import pandas as pd\n",
    "import numpy as np\n",
    "import matplotlib.pyplot as plt\n",
    "from scipy.optimize import minimize, Bounds\n",
    "\n",
    "# Define portfolio return as a function of constituents weights and returns\n",
    "def portfolio_return(weights, returns):\n",
    "    return weights @ returns\n",
    "# Define portfolio ex-ante volatility as a function of constituent weights and VCV matrix\n",
    "def portfolio_volatility(weights, covmat):\n",
    "    w = np.array(weights)\n",
    "    covmat = np.asarray(covmat)\n",
    "    return np.dot(np.dot(w.T, covmat), weights) ** 0.5\n",
    "# Negative Sharpe Ratio Function to be optimized\n",
    "def negative_sharpe_ratio(weights, exp_ret, covmat, risk_free=0.0):\n",
    "    return - ((portfolio_return(weights=weights, returns=exp_ret) - risk_free)\n",
    "              / portfolio_volatility(weights=weights, covmat=covmat) ** 0.5)\n",
    "# Portfolio risk to be optimized\n",
    "def risk(weights, exp_ret, covmat, risk_free=0.0):\n",
    "    return portfolio_volatility(weights=weights, covmat=covmat)\n",
    "# Define Optimization Function\n",
    "def optimize(func, exp_ret, covmat, risk_free, target_return=None, allow_short=False):\n",
    "    \"\"\"\n",
    "    Optimize the input function and return portfolio weights.\n",
    "    Can be used either with negative sharpe ratio and no target return, or risk and target return\n",
    "    If allow short, negative weights allowed. By default, bunds are set (-1, 1)\n",
    "    \"\"\"\n",
    "    init_weights = [1 / covmat.shape[0]] * covmat.shape[0]\n",
    "\n",
    "    opt_bounds = Bounds(0, 1) if not allow_short else Bounds(-1, 1)\n",
    "\n",
    "    opt_constraints = {'type': 'eq',\n",
    "                       'fun': lambda w: 1.0 - np.sum(w)}\n",
    "    if target_return is not None:\n",
    "        opt_constraints = ({'type': 'eq',\n",
    "                            'fun': lambda w: 1.0 - np.sum(w)},\n",
    "                           {'type': 'eq',\n",
    "                            'fun': lambda w: target_return - w.T @ exp_ret})\n",
    "\n",
    "    optimal_weights = minimize(func,\n",
    "                               init_weights,\n",
    "                               args=(exp_ret, covmat, risk_free),\n",
    "                               method='SLSQP',\n",
    "                               bounds=opt_bounds,\n",
    "                               constraints=opt_constraints)\n",
    "\n",
    "    return optimal_weights.x"
   ]
  },
  {
   "cell_type": "code",
   "execution_count": 10,
   "id": "e43cd0ee-57b1-4859-b650-dccdb5bd0655",
   "metadata": {},
   "outputs": [
    {
     "data": {
      "text/html": [
       "<div>\n",
       "<style scoped>\n",
       "    .dataframe tbody tr th:only-of-type {\n",
       "        vertical-align: middle;\n",
       "    }\n",
       "\n",
       "    .dataframe tbody tr th {\n",
       "        vertical-align: top;\n",
       "    }\n",
       "\n",
       "    .dataframe thead th {\n",
       "        text-align: right;\n",
       "    }\n",
       "</style>\n",
       "<table border=\"1\" class=\"dataframe\">\n",
       "  <thead>\n",
       "    <tr style=\"text-align: right;\">\n",
       "      <th></th>\n",
       "      <th>bydprice</th>\n",
       "      <th>cocoprice</th>\n",
       "      <th>elfprice</th>\n",
       "      <th>koprice</th>\n",
       "      <th>sprice</th>\n",
       "    </tr>\n",
       "  </thead>\n",
       "  <tbody>\n",
       "    <tr>\n",
       "      <th>1</th>\n",
       "      <td>0.001913</td>\n",
       "      <td>-0.022939</td>\n",
       "      <td>-0.003884</td>\n",
       "      <td>-0.013617</td>\n",
       "      <td>0.035729</td>\n",
       "    </tr>\n",
       "    <tr>\n",
       "      <th>2</th>\n",
       "      <td>-0.033854</td>\n",
       "      <td>0.010271</td>\n",
       "      <td>0.026586</td>\n",
       "      <td>0.006372</td>\n",
       "      <td>0.034086</td>\n",
       "    </tr>\n",
       "    <tr>\n",
       "      <th>3</th>\n",
       "      <td>0.007008</td>\n",
       "      <td>-0.014524</td>\n",
       "      <td>0.012431</td>\n",
       "      <td>-0.003869</td>\n",
       "      <td>0.018467</td>\n",
       "    </tr>\n",
       "    <tr>\n",
       "      <th>4</th>\n",
       "      <td>0.039436</td>\n",
       "      <td>-0.023581</td>\n",
       "      <td>0.018076</td>\n",
       "      <td>-0.003531</td>\n",
       "      <td>0.035874</td>\n",
       "    </tr>\n",
       "    <tr>\n",
       "      <th>5</th>\n",
       "      <td>0.033133</td>\n",
       "      <td>0.018868</td>\n",
       "      <td>-0.001675</td>\n",
       "      <td>-0.007619</td>\n",
       "      <td>0.067194</td>\n",
       "    </tr>\n",
       "  </tbody>\n",
       "</table>\n",
       "</div>"
      ],
      "text/plain": [
       "   bydprice  cocoprice  elfprice   koprice    sprice\n",
       "1  0.001913  -0.022939 -0.003884 -0.013617  0.035729\n",
       "2 -0.033854   0.010271  0.026586  0.006372  0.034086\n",
       "3  0.007008  -0.014524  0.012431 -0.003869  0.018467\n",
       "4  0.039436  -0.023581  0.018076 -0.003531  0.035874\n",
       "5  0.033133   0.018868 -0.001675 -0.007619  0.067194"
      ]
     },
     "execution_count": 10,
     "metadata": {},
     "output_type": "execute_result"
    }
   ],
   "source": [
    "byddata = pd.read_csv('BYD.csv')\n",
    "cocodata = pd.read_csv('COCO.csv')\n",
    "elfdata = pd.read_csv('ELF.csv')\n",
    "kodata = pd.read_csv('KO.csv')\n",
    "sdata = pd.read_csv('S.csv')\n",
    "spxdata = pd.read_csv('SPX.csv')\n",
    "\n",
    "byddata.rename(columns={'Close': 'bydprice'}, inplace=True)\n",
    "cocodata.rename(columns={'Close': 'cocoprice'}, inplace=True)\n",
    "elfdata.rename(columns={'Close': 'elfprice'}, inplace=True)\n",
    "kodata.rename(columns={'Close': 'koprice'}, inplace=True)\n",
    "sdata.rename(columns={'Close': 'sprice'}, inplace=True)\n",
    "spxdata.rename(columns={'Close': 'spxprice'}, inplace=True)\n",
    "\n",
    "byd = byddata['bydprice']\n",
    "coco = cocodata['cocoprice']\n",
    "elf = elfdata['elfprice']\n",
    "ko = kodata['koprice']\n",
    "s = sdata['sprice']\n",
    "spx = spxdata['spxprice']\n",
    "\n",
    "newdataframe = pd.concat([byd,coco,elf, ko,s], axis=1)\n",
    "\n",
    "returns = newdataframe.pct_change().dropna()\n",
    "returns.head()"
   ]
  },
  {
   "cell_type": "code",
   "execution_count": 16,
   "id": "61170bf1-b85e-4ecd-ad5e-6ab53c7f7842",
   "metadata": {},
   "outputs": [
    {
     "data": {
      "text/plain": [
       "<AxesSubplot:>"
      ]
     },
     "execution_count": 16,
     "metadata": {},
     "output_type": "execute_result"
    },
    {
     "data": {
      "image/png": "[encoded data removed]",
      "text/plain": [
       "<Figure size 1296x576 with 1 Axes>"
      ]
     },
     "metadata": {
      "needs_background": "light"
     },
     "output_type": "display_data"
    }
   ],
   "source": [
    "vcv = returns.cov()\n",
    "vcv_ann = vcv * np.sqrt(252)\n",
    "\n",
    "exp_ret = returns.mean()\n",
    "exp_ret.head()\n",
    "mean_variance_weights = optimize(func=negative_sharpe_ratio,\n",
    "                                 exp_ret=exp_ret,\n",
    "                                 covmat=vcv,\n",
    "                                 risk_free=0.0)\n",
    "mean_variance_weights = pd.DataFrame(mean_variance_weights, index=vcv.index, columns=[\"Weight\"])\n",
    "mean_variance_weights.plot(kind=\"bar\", figsize=(18, 8))\n"
   ]
  },
  {
   "cell_type": "code",
   "execution_count": null,
   "id": "cb6ad98a-6c01-45c5-bf9b-fee75979dd43",
   "metadata": {},
   "outputs": [],
   "source": []
  }
 ],
 "metadata": {
  "kernelspec": {
   "display_name": "Python 3 (trusted by llisowski2)",
   "language": "python",
   "name": "python3_unsandboxed_llisowski2"
  },
  "language_info": {
   "codemirror_mode": {
    "name": "ipython",
    "version": 3
   },
   "file_extension": ".py",
   "mimetype": "text/x-python",
   "name": "python",
   "nbconvert_exporter": "python",
   "pygments_lexer": "ipython3",
   "version": "3.9.12"
  }
 },
 "nbformat": 4,
 "nbformat_minor": 5
}
