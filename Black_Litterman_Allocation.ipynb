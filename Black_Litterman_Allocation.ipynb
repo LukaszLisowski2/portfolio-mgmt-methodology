{
  "nbformat": 4,
  "nbformat_minor": 0,
  "metadata": {
    "colab": {
      "name": "Black Litterman Allocation",
      "provenance": []
    },
    "kernelspec": {
      "name": "python3",
      "display_name": "Python 3"
    },
    "language_info": {
      "name": "python"
    }
  },
  "cells": [
    {
      "cell_type": "code",
      "metadata": {
        "id": "3mdzO36T8csZ"
      },
      "source": [
        "pip install yfinance"
      ],
      "execution_count": null,
      "outputs": []
    },
    {
      "cell_type": "code",
      "metadata": {
        "colab": {
          "base_uri": "https://localhost:8080/"
        },
        "id": "OySJQdGH-RXB",
        "outputId": "3efa0c20-e9b3-44f8-8905-b5abdd3cadf1"
      },
      "source": [
        "pip install pyportfolioopt"
      ],
      "execution_count": 2,
      "outputs": [
        {
          "output_type": "stream",
          "name": "stdout",
          "text": [
            "Collecting pyportfolioopt\n",
            "  Downloading PyPortfolioOpt-1.5.1-py3-none-any.whl (61 kB)\n",
            "\u001b[?25l\r\u001b[K     |█████▍                          | 10 kB 20.7 MB/s eta 0:00:01\r\u001b[K     |██████████▊                     | 20 kB 25.1 MB/s eta 0:00:01\r\u001b[K     |████████████████                | 30 kB 28.7 MB/s eta 0:00:01\r\u001b[K     |█████████████████████▍          | 40 kB 31.4 MB/s eta 0:00:01\r\u001b[K     |██████████████████████████▊     | 51 kB 33.6 MB/s eta 0:00:01\r\u001b[K     |████████████████████████████████| 61 kB 7.9 MB/s \n",
            "\u001b[?25hRequirement already satisfied: pandas>=0.19 in /usr/local/lib/python3.7/dist-packages (from pyportfolioopt) (1.1.5)\n",
            "Requirement already satisfied: numpy<2.0,>=1.12 in /usr/local/lib/python3.7/dist-packages (from pyportfolioopt) (1.19.5)\n",
            "Collecting cvxpy<2.0.0,>=1.1.10\n",
            "  Downloading cvxpy-1.1.17-cp37-cp37m-manylinux_2_24_x86_64.whl (2.8 MB)\n",
            "\u001b[K     |████████████████████████████████| 2.8 MB 29.7 MB/s \n",
            "\u001b[?25hRequirement already satisfied: scipy<2.0,>=1.3 in /usr/local/lib/python3.7/dist-packages (from pyportfolioopt) (1.4.1)\n",
            "Requirement already satisfied: ecos>=2 in /usr/local/lib/python3.7/dist-packages (from cvxpy<2.0.0,>=1.1.10->pyportfolioopt) (2.0.7.post1)\n",
            "Requirement already satisfied: scs>=1.1.6 in /usr/local/lib/python3.7/dist-packages (from cvxpy<2.0.0,>=1.1.10->pyportfolioopt) (2.1.4)\n",
            "Requirement already satisfied: osqp>=0.4.1 in /usr/local/lib/python3.7/dist-packages (from cvxpy<2.0.0,>=1.1.10->pyportfolioopt) (0.6.2.post0)\n",
            "Requirement already satisfied: qdldl in /usr/local/lib/python3.7/dist-packages (from osqp>=0.4.1->cvxpy<2.0.0,>=1.1.10->pyportfolioopt) (0.1.5.post0)\n",
            "Requirement already satisfied: pytz>=2017.2 in /usr/local/lib/python3.7/dist-packages (from pandas>=0.19->pyportfolioopt) (2018.9)\n",
            "Requirement already satisfied: python-dateutil>=2.7.3 in /usr/local/lib/python3.7/dist-packages (from pandas>=0.19->pyportfolioopt) (2.8.2)\n",
            "Requirement already satisfied: six>=1.5 in /usr/local/lib/python3.7/dist-packages (from python-dateutil>=2.7.3->pandas>=0.19->pyportfolioopt) (1.15.0)\n",
            "Installing collected packages: cvxpy, pyportfolioopt\n",
            "  Attempting uninstall: cvxpy\n",
            "    Found existing installation: cvxpy 1.0.31\n",
            "    Uninstalling cvxpy-1.0.31:\n",
            "      Successfully uninstalled cvxpy-1.0.31\n",
            "Successfully installed cvxpy-1.1.17 pyportfolioopt-1.5.1\n"
          ]
        }
      ]
    },
    {
      "cell_type": "code",
      "metadata": {
        "colab": {
          "base_uri": "https://localhost:8080/",
          "height": 250
        },
        "id": "SlN-5NIn4KXU",
        "outputId": "6f9fb2dd-7804-4bae-ddb1-0434becce4f3"
      },
      "source": [
        "import numpy as np\n",
        "import pandas as pd\n",
        "import matplotlib.pyplot as plt\n",
        "import yfinance as yf\n",
        "\n",
        "stocks = [\"GS\", \"BCS\", \"MSFT\", \"PYPL\", \"GOOGL\", \"VOW3.DE\", \"ZS\", \"CRWD\",\"AAPL\", \"SOFI\"]\n",
        "\n",
        "ohlc = yf.download(stocks, period=\"1Y\")\n",
        "prices = ohlc[\"Adj Close\"]\n",
        "prices.tail()"
      ],
      "execution_count": 4,
      "outputs": [
        {
          "output_type": "stream",
          "name": "stdout",
          "text": [
            "[*********************100%***********************]  10 of 10 completed\n"
          ]
        },
        {
          "output_type": "execute_result",
          "data": {
            "text/html": [
              "<div>\n",
              "<style scoped>\n",
              "    .dataframe tbody tr th:only-of-type {\n",
              "        vertical-align: middle;\n",
              "    }\n",
              "\n",
              "    .dataframe tbody tr th {\n",
              "        vertical-align: top;\n",
              "    }\n",
              "\n",
              "    .dataframe thead th {\n",
              "        text-align: right;\n",
              "    }\n",
              "</style>\n",
              "<table border=\"1\" class=\"dataframe\">\n",
              "  <thead>\n",
              "    <tr style=\"text-align: right;\">\n",
              "      <th></th>\n",
              "      <th>AAPL</th>\n",
              "      <th>BCS</th>\n",
              "      <th>CRWD</th>\n",
              "      <th>GOOGL</th>\n",
              "      <th>GS</th>\n",
              "      <th>MSFT</th>\n",
              "      <th>PYPL</th>\n",
              "      <th>SOFI</th>\n",
              "      <th>VOW3.DE</th>\n",
              "      <th>ZS</th>\n",
              "    </tr>\n",
              "    <tr>\n",
              "      <th>Date</th>\n",
              "      <th></th>\n",
              "      <th></th>\n",
              "      <th></th>\n",
              "      <th></th>\n",
              "      <th></th>\n",
              "      <th></th>\n",
              "      <th></th>\n",
              "      <th></th>\n",
              "      <th></th>\n",
              "      <th></th>\n",
              "    </tr>\n",
              "  </thead>\n",
              "  <tbody>\n",
              "    <tr>\n",
              "      <th>2021-10-29</th>\n",
              "      <td>149.800003</td>\n",
              "      <td>11.19</td>\n",
              "      <td>281.799988</td>\n",
              "      <td>2960.919922</td>\n",
              "      <td>413.350006</td>\n",
              "      <td>331.619995</td>\n",
              "      <td>232.589996</td>\n",
              "      <td>20.090000</td>\n",
              "      <td>193.820007</td>\n",
              "      <td>318.859985</td>\n",
              "    </tr>\n",
              "    <tr>\n",
              "      <th>2021-11-01</th>\n",
              "      <td>148.960007</td>\n",
              "      <td>11.18</td>\n",
              "      <td>269.170013</td>\n",
              "      <td>2869.939941</td>\n",
              "      <td>416.700012</td>\n",
              "      <td>329.369995</td>\n",
              "      <td>231.279999</td>\n",
              "      <td>22.620001</td>\n",
              "      <td>194.660004</td>\n",
              "      <td>318.679993</td>\n",
              "    </tr>\n",
              "    <tr>\n",
              "      <th>2021-11-02</th>\n",
              "      <td>150.020004</td>\n",
              "      <td>10.93</td>\n",
              "      <td>268.119995</td>\n",
              "      <td>2908.649902</td>\n",
              "      <td>423.850006</td>\n",
              "      <td>333.130005</td>\n",
              "      <td>229.460007</td>\n",
              "      <td>22.680000</td>\n",
              "      <td>193.440002</td>\n",
              "      <td>325.869995</td>\n",
              "    </tr>\n",
              "    <tr>\n",
              "      <th>2021-11-03</th>\n",
              "      <td>151.490005</td>\n",
              "      <td>11.15</td>\n",
              "      <td>270.649994</td>\n",
              "      <td>2931.959961</td>\n",
              "      <td>417.899994</td>\n",
              "      <td>334.000000</td>\n",
              "      <td>230.380005</td>\n",
              "      <td>22.959999</td>\n",
              "      <td>185.619995</td>\n",
              "      <td>327.500000</td>\n",
              "    </tr>\n",
              "    <tr>\n",
              "      <th>2021-11-04</th>\n",
              "      <td>150.960007</td>\n",
              "      <td>10.53</td>\n",
              "      <td>279.619995</td>\n",
              "      <td>2965.350098</td>\n",
              "      <td>408.070007</td>\n",
              "      <td>336.440002</td>\n",
              "      <td>228.220001</td>\n",
              "      <td>23.290001</td>\n",
              "      <td>187.800003</td>\n",
              "      <td>331.899994</td>\n",
              "    </tr>\n",
              "  </tbody>\n",
              "</table>\n",
              "</div>"
            ],
            "text/plain": [
              "                  AAPL    BCS        CRWD  ...       SOFI     VOW3.DE          ZS\n",
              "Date                                       ...                                   \n",
              "2021-10-29  149.800003  11.19  281.799988  ...  20.090000  193.820007  318.859985\n",
              "2021-11-01  148.960007  11.18  269.170013  ...  22.620001  194.660004  318.679993\n",
              "2021-11-02  150.020004  10.93  268.119995  ...  22.680000  193.440002  325.869995\n",
              "2021-11-03  151.490005  11.15  270.649994  ...  22.959999  185.619995  327.500000\n",
              "2021-11-04  150.960007  10.53  279.619995  ...  23.290001  187.800003  331.899994\n",
              "\n",
              "[5 rows x 10 columns]"
            ]
          },
          "metadata": {},
          "execution_count": 4
        }
      ]
    },
    {
      "cell_type": "code",
      "metadata": {
        "colab": {
          "base_uri": "https://localhost:8080/"
        },
        "id": "llibcfI__faQ",
        "outputId": "a3face33-0e23-4e01-d7d8-785a0237d5f3"
      },
      "source": [
        "market_prices = yf.download(\"SPY\", period=\"max\")[\"Adj Close\"]\n",
        "\n",
        "\n",
        "mcaps = {}\n",
        "for t in stocks:\n",
        "    stock = yf.Ticker(t)\n",
        "    mcaps[t] = stock.info[\"marketCap\"]\n",
        "mcaps\n",
        "\n"
      ],
      "execution_count": 5,
      "outputs": [
        {
          "output_type": "stream",
          "name": "stdout",
          "text": [
            "\r[*********************100%***********************]  1 of 1 completed\n"
          ]
        },
        {
          "output_type": "execute_result",
          "data": {
            "text/plain": [
              "{'AAPL': 2476710297600,\n",
              " 'BCS': 44257591296,\n",
              " 'CRWD': 63807324160,\n",
              " 'GOOGL': 1969526145024,\n",
              " 'GS': 136618975232,\n",
              " 'MSFT': 2525984718848,\n",
              " 'PYPL': 268165349376,\n",
              " 'SOFI': 18623383552,\n",
              " 'VOW3.DE': 121519931392,\n",
              " 'ZS': 46046478336}"
            ]
          },
          "metadata": {},
          "execution_count": 5
        }
      ]
    },
    {
      "cell_type": "code",
      "metadata": {
        "colab": {
          "base_uri": "https://localhost:8080/",
          "height": 482
        },
        "id": "gAAe9S_WANVl",
        "outputId": "f8f8e7cf-501e-455a-cd44-63dc1a0707b7"
      },
      "source": [
        "from pypfopt import black_litterman, risk_models\n",
        "from pypfopt import BlackLittermanModel, plotting\n",
        "\n",
        "S = risk_models.CovarianceShrinkage(prices).ledoit_wolf()\n",
        "delta = black_litterman.market_implied_risk_aversion(market_prices)\n",
        "delta\n",
        "plotting.plot_covariance(S, plot_correlation=True)\n",
        "\n",
        "market_prior = black_litterman.market_implied_prior_returns(mcaps, delta, S)\n",
        "market_prior\n",
        "\n"
      ],
      "execution_count": null,
      "outputs": [
        {
          "output_type": "execute_result",
          "data": {
            "text/plain": [
              "AAPL       0.154496\n",
              "BCS        0.034203\n",
              "CRWD       0.105345\n",
              "GOOGL      0.134105\n",
              "GS         0.037564\n",
              "MSFT       0.137051\n",
              "PYPL       0.129812\n",
              "SOFI       0.101844\n",
              "VOW3.DE    0.047758\n",
              "ZS         0.105472\n",
              "dtype: float64"
            ]
          },
          "metadata": {},
          "execution_count": 12
        },
        {
          "output_type": "display_data",
          "data": {
            "image/png": "[encoded data removed]",
            "text/plain": [
              "<Figure size 432x288 with 2 Axes>"
            ]
          },
          "metadata": {
            "needs_background": "light"
          }
        }
      ]
    },
    {
      "cell_type": "code",
      "metadata": {
        "colab": {
          "base_uri": "https://localhost:8080/",
          "height": 320
        },
        "id": "FmtbbFnnA87X",
        "outputId": "429fa857-bf1d-473c-a437-d0f12b3fe5fd"
      },
      "source": [
        "market_prior.plot.barh(figsize=(10,5));"
      ],
      "execution_count": null,
      "outputs": [
        {
          "output_type": "display_data",
          "data": {
            "image/png": "[encoded data removed]",
            "text/plain": [
              "<Figure size 720x360 with 1 Axes>"
            ]
          },
          "metadata": {
            "needs_background": "light"
          }
        }
      ]
    },
    {
      "cell_type": "code",
      "metadata": {
        "colab": {
          "base_uri": "https://localhost:8080/",
          "height": 428
        },
        "id": "zpjW6Y5nMFOY",
        "outputId": "977cb79f-8d7a-40a9-932e-c9985d94a127"
      },
      "source": [
        "from pypfopt import BlackLittermanModel\n",
        "\n",
        "viewdict = {\n",
        "    \"GS\": 0.08,\n",
        "    \"BCS\": 0.01,\n",
        "    \"MSFT\": 0.05,\n",
        "    \"PYPL\": 0.05,\n",
        "    \"GOOGL\" : 0.05,\n",
        "    \"VOW3.DE\": 0.01,  \n",
        "    \"ZS\": 0.10,\n",
        "    \"CRWD\": 0.10,\n",
        "    \"AAPL\": 0.04,  \n",
        "    \"SOFI\": 0.35\n",
        "}\n",
        "\n",
        "bl = BlackLittermanModel(S, pi=market_prior, absolute_views=viewdict)\n",
        "\n",
        "\n",
        "confidences = [\n",
        "    0.8,\n",
        "    0.2,\n",
        "    0.6,\n",
        "    0.9,\n",
        "    0.7, \n",
        "    0.2,  \n",
        "    0.5, \n",
        "    0.5,\n",
        "    0.3,\n",
        "    0.2\n",
        "]\n",
        "\n",
        "bl = BlackLittermanModel(S, pi=market_prior, absolute_views=viewdict, omega=\"idzorek\", view_confidences=confidences)\n",
        "fig, ax = plt.subplots(figsize=(7,7))\n",
        "im = ax.imshow(bl.omega)\n",
        "\n",
        "# We want to show all ticks...\n",
        "ax.set_xticks(np.arange(len(bl.tickers)))\n",
        "ax.set_yticks(np.arange(len(bl.tickers)))\n",
        "\n",
        "ax.set_xticklabels(bl.tickers)\n",
        "ax.set_yticklabels(bl.tickers)\n",
        "plt.show()\n",
        "\n",
        "omega = np.diag(bl.omega)"
      ],
      "execution_count": null,
      "outputs": [
        {
          "output_type": "display_data",
          "data": {
            "image/png": "[encoded data removed]",
            "text/plain": [
              "<Figure size 504x504 with 1 Axes>"
            ]
          },
          "metadata": {
            "needs_background": "light"
          }
        }
      ]
    },
    {
      "cell_type": "code",
      "metadata": {
        "colab": {
          "base_uri": "https://localhost:8080/",
          "height": 357
        },
        "id": "6JCdMP33GbY0",
        "outputId": "9230f51b-b329-4ebc-a9ba-3658c1748cf5"
      },
      "source": [
        "bl = BlackLittermanModel(S, pi=\"market\", market_caps=mcaps, risk_aversion=delta,\n",
        "                        absolute_views=viewdict, omega=bl.omega)\n",
        "\n",
        "ret_bl = bl.bl_returns()\n",
        "ret_bl\n",
        "\n",
        "\n",
        "rets_df = pd.DataFrame([market_prior, ret_bl, pd.Series(viewdict)], \n",
        "             index=[\"Prior\", \"Posterior\", \"Views\"]).T\n",
        "rets_df\n"
      ],
      "execution_count": null,
      "outputs": [
        {
          "output_type": "execute_result",
          "data": {
            "text/html": [
              "<div>\n",
              "<style scoped>\n",
              "    .dataframe tbody tr th:only-of-type {\n",
              "        vertical-align: middle;\n",
              "    }\n",
              "\n",
              "    .dataframe tbody tr th {\n",
              "        vertical-align: top;\n",
              "    }\n",
              "\n",
              "    .dataframe thead th {\n",
              "        text-align: right;\n",
              "    }\n",
              "</style>\n",
              "<table border=\"1\" class=\"dataframe\">\n",
              "  <thead>\n",
              "    <tr style=\"text-align: right;\">\n",
              "      <th></th>\n",
              "      <th>Prior</th>\n",
              "      <th>Posterior</th>\n",
              "      <th>Views</th>\n",
              "    </tr>\n",
              "  </thead>\n",
              "  <tbody>\n",
              "    <tr>\n",
              "      <th>AAPL</th>\n",
              "      <td>0.154496</td>\n",
              "      <td>0.090824</td>\n",
              "      <td>0.04</td>\n",
              "    </tr>\n",
              "    <tr>\n",
              "      <th>BCS</th>\n",
              "      <td>0.034203</td>\n",
              "      <td>0.031992</td>\n",
              "      <td>0.01</td>\n",
              "    </tr>\n",
              "    <tr>\n",
              "      <th>CRWD</th>\n",
              "      <td>0.105345</td>\n",
              "      <td>0.078061</td>\n",
              "      <td>0.10</td>\n",
              "    </tr>\n",
              "    <tr>\n",
              "      <th>GOOGL</th>\n",
              "      <td>0.134105</td>\n",
              "      <td>0.064814</td>\n",
              "      <td>0.05</td>\n",
              "    </tr>\n",
              "    <tr>\n",
              "      <th>GS</th>\n",
              "      <td>0.037564</td>\n",
              "      <td>0.065700</td>\n",
              "      <td>0.08</td>\n",
              "    </tr>\n",
              "    <tr>\n",
              "      <th>MSFT</th>\n",
              "      <td>0.137051</td>\n",
              "      <td>0.068836</td>\n",
              "      <td>0.05</td>\n",
              "    </tr>\n",
              "    <tr>\n",
              "      <th>PYPL</th>\n",
              "      <td>0.129812</td>\n",
              "      <td>0.055063</td>\n",
              "      <td>0.05</td>\n",
              "    </tr>\n",
              "    <tr>\n",
              "      <th>SOFI</th>\n",
              "      <td>0.101844</td>\n",
              "      <td>0.117512</td>\n",
              "      <td>0.35</td>\n",
              "    </tr>\n",
              "    <tr>\n",
              "      <th>VOW3.DE</th>\n",
              "      <td>0.047758</td>\n",
              "      <td>0.029393</td>\n",
              "      <td>0.01</td>\n",
              "    </tr>\n",
              "    <tr>\n",
              "      <th>ZS</th>\n",
              "      <td>0.105472</td>\n",
              "      <td>0.073687</td>\n",
              "      <td>0.10</td>\n",
              "    </tr>\n",
              "  </tbody>\n",
              "</table>\n",
              "</div>"
            ],
            "text/plain": [
              "            Prior  Posterior  Views\n",
              "AAPL     0.154496   0.090824   0.04\n",
              "BCS      0.034203   0.031992   0.01\n",
              "CRWD     0.105345   0.078061   0.10\n",
              "GOOGL    0.134105   0.064814   0.05\n",
              "GS       0.037564   0.065700   0.08\n",
              "MSFT     0.137051   0.068836   0.05\n",
              "PYPL     0.129812   0.055063   0.05\n",
              "SOFI     0.101844   0.117512   0.35\n",
              "VOW3.DE  0.047758   0.029393   0.01\n",
              "ZS       0.105472   0.073687   0.10"
            ]
          },
          "metadata": {},
          "execution_count": 39
        }
      ]
    },
    {
      "cell_type": "code",
      "metadata": {
        "colab": {
          "base_uri": "https://localhost:8080/",
          "height": 521
        },
        "id": "KnUGTBwXHXXT",
        "outputId": "4f935d20-126e-475a-c490-4b461abb8aa9"
      },
      "source": [
        "\n",
        "rets_df.plot.bar(figsize=(12,8));\n",
        "\n",
        "S_bl = bl.bl_cov()\n"
      ],
      "execution_count": null,
      "outputs": [
        {
          "output_type": "display_data",
          "data": {
            "image/png": "[encoded data removed]",
            "text/plain": [
              "<Figure size 864x576 with 1 Axes>"
            ]
          },
          "metadata": {
            "needs_background": "light"
          }
        }
      ]
    },
    {
      "cell_type": "markdown",
      "metadata": {
        "id": "ZJF7jQVeHdaL"
      },
      "source": [
        "from pypfopt import EfficientFrontier, objective_functions\n",
        "\n",
        "\n",
        "ef = EfficientFrontier(ret_bl, S_bl)\n",
        "ef.add_objective(objective_functions.L2_reg)\n",
        "\n",
        "weights = ef.clean_weights()\n",
        "weights\n",
        "\n",
        "\n",
        "\n"
      ]
    },
    {
      "cell_type": "code",
      "metadata": {
        "colab": {
          "base_uri": "https://localhost:8080/"
        },
        "id": "P3p6sCqEIuFA",
        "outputId": "dbaa4e53-a14b-43c1-9002-152c23534736"
      },
      "source": [
        "from pypfopt import EfficientFrontier, objective_functions\n",
        "\n",
        "ef = EfficientFrontier(ret_bl, S_bl)\n",
        "ef.add_objective(objective_functions.L2_reg)\n",
        "ef.max_sharpe()\n",
        "\n",
        "weights = ef.clean_weights()\n",
        "weights"
      ],
      "execution_count": null,
      "outputs": [
        {
          "output_type": "stream",
          "name": "stderr",
          "text": [
            "/usr/local/lib/python3.7/dist-packages/pypfopt/efficient_frontier/efficient_frontier.py:258: UserWarning: max_sharpe transforms the optimization problem so additional objectives may not work as expected.\n",
            "  \"max_sharpe transforms the optimization problem so additional objectives may not work as expected.\"\n"
          ]
        },
        {
          "output_type": "execute_result",
          "data": {
            "text/plain": [
              "OrderedDict([('AAPL', 0.17998),\n",
              "             ('BCS', 0.02819),\n",
              "             ('CRWD', 0.10593),\n",
              "             ('GOOGL', 0.10797),\n",
              "             ('GS', 0.12367),\n",
              "             ('MSFT', 0.12099),\n",
              "             ('PYPL', 0.05611),\n",
              "             ('SOFI', 0.15882),\n",
              "             ('VOW3.DE', 0.01761),\n",
              "             ('ZS', 0.10074)])"
            ]
          },
          "metadata": {},
          "execution_count": 41
        }
      ]
    },
    {
      "cell_type": "code",
      "metadata": {
        "colab": {
          "base_uri": "https://localhost:8080/"
        },
        "id": "DzX-M3IaIdxm",
        "outputId": "164d8def-2661-40cf-9854-8c49acfc34b5"
      },
      "source": [
        "\n",
        "from pypfopt import DiscreteAllocation\n",
        "\n",
        "da = DiscreteAllocation(weights, prices.iloc[-1], total_portfolio_value=100000)\n",
        "alloc, leftover = da.lp_portfolio()\n",
        "print(f\"Leftover: ${leftover:.2f}\")\n",
        "alloc"
      ],
      "execution_count": null,
      "outputs": [
        {
          "output_type": "stream",
          "name": "stdout",
          "text": [
            "Leftover: $1.85\n"
          ]
        },
        {
          "output_type": "execute_result",
          "data": {
            "text/plain": [
              "{'AAPL': 118,\n",
              " 'BCS': 243,\n",
              " 'CRWD': 37,\n",
              " 'GOOGL': 4,\n",
              " 'GS': 29,\n",
              " 'MSFT': 37,\n",
              " 'PYPL': 23,\n",
              " 'SOFI': 796,\n",
              " 'VOW3.DE': 9,\n",
              " 'ZS': 32}"
            ]
          },
          "metadata": {},
          "execution_count": 43
        }
      ]
    }
  ]
}